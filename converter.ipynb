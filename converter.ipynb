{
 "cells": [
  {
   "attachments": {},
   "cell_type": "markdown",
   "metadata": {},
   "source": [
    "#### Install these packages \n",
    "```python\n",
    "pip install pandas\n",
    "pip install numpy\n",
    "pip install openpyxl  \n",
    "\n",
    "```"
   ]
  },
  {
   "cell_type": "code",
   "execution_count": 1,
   "metadata": {},
   "outputs": [],
   "source": [
    "import pandas as pd\n",
    "import numpy as np\n",
    "from datetime import datetime\n",
    "from pathlib import Path\n"
   ]
  },
  {
   "cell_type": "code",
   "execution_count": 2,
   "metadata": {},
   "outputs": [],
   "source": [
    "data = pd.read_json('testdata.json')"
   ]
  },
  {
   "cell_type": "code",
   "execution_count": 3,
   "metadata": {},
   "outputs": [
    {
     "data": {
      "text/plain": [
       "Index(['id', 'payment_status', 'stall_order', 'user_info', 'order_id',\n",
       "       'order_placed_timestamp'],\n",
       "      dtype='object')"
      ]
     },
     "execution_count": 3,
     "metadata": {},
     "output_type": "execute_result"
    }
   ],
   "source": [
    "data.keys()"
   ]
  },
  {
   "cell_type": "code",
   "execution_count": 4,
   "metadata": {},
   "outputs": [],
   "source": [
    "index = 0\n",
    "local_var=locals()\n",
    "clean_data = data.drop(columns=['id', 'order_placed_timestamp', 'user_info',\n",
    "       'payment_status', 'order_id'])[\"stall_order\"]"
   ]
  },
  {
   "cell_type": "code",
   "execution_count": 5,
   "metadata": {},
   "outputs": [],
   "source": [
    "for i in range (1,13):\n",
    "    var_str  = 'stall_'+'{0}'.format(i).zfill(2)\n",
    "    local_var.__setitem__(var_str,[])\n"
   ]
  },
  {
   "cell_type": "code",
   "execution_count": 6,
   "metadata": {},
   "outputs": [],
   "source": [
    "def item_list_sep (stall_data):\n",
    "    item_list = []\n",
    "    for key in stall_data['items_ordered']:\n",
    "        name = stall_data['items_ordered'][key][\"name\"]\n",
    "        qty = stall_data['items_ordered'][key][\"qty\"]\n",
    "        item_list.append(f\"{name}({qty})\")\n",
    "    return item_list"
   ]
  },
  {
   "cell_type": "code",
   "execution_count": 7,
   "metadata": {},
   "outputs": [],
   "source": [
    "def item_total (stall_data):\n",
    "    total = 0\n",
    "    for key in stall_data['items_ordered']:\n",
    "        value = int( stall_data['items_ordered'][key][\"qty\"]) * int(stall_data['items_ordered'][key][\"price\"])\n",
    "        total = total + value\n",
    "    return total\n"
   ]
  },
  {
   "cell_type": "code",
   "execution_count": 8,
   "metadata": {},
   "outputs": [],
   "source": [
    "def stall_details (stallList,stall_data,index,id) :\n",
    "    formatted_time = datetime.fromtimestamp(data['order_placed_timestamp'][index][\"seconds\"]).ctime()\n",
    "    item_list = item_list_sep(stall_data[id])\n",
    "    stall_total= item_total(stall_data[id])\n",
    "    user_name = data['user_info'][index]['name']\n",
    "    user_email = data['user_info'][index]['email']\n",
    "    user_phoneNo = data['user_info'][index]['phoneNumber']\n",
    "    stallList.append((str(data['order_id'][index]),formatted_time,stall_data[id][\"status\"],','.join(map(str,item_list)),user_name,user_email,user_phoneNo,stall_total))\n"
   ]
  },
  {
   "cell_type": "code",
   "execution_count": 9,
   "metadata": {},
   "outputs": [],
   "source": [
    "for stall_name in clean_data:\n",
    "   for id in stall_name:\n",
    "      for val in range(1,13):\n",
    "          val_str='stall-'+'{0}'.format(val).zfill(2)\n",
    "          val_list = 'stall_'+'{0}'.format(val).zfill(2)\n",
    "          if(id == val_str):\n",
    "             stall_details(local_var[val_list],stall_name,index,id)\n",
    "         \n",
    "   index=index+1"
   ]
  },
  {
   "cell_type": "code",
   "execution_count": 10,
   "metadata": {},
   "outputs": [],
   "source": [
    "for index in range(1,13):\n",
    "    val_str='stall_'+'{0}'.format(index).zfill(2)\n",
    "    export_file = str(Path.cwd())+'\\\\export-excel\\\\export-stall'+'{0}'.format(index).zfill(2)+'.xlsx'\n",
    "    \n",
    "    # checks whether the stall array is empty or not\n",
    "    if bool(local_var[val_str]):\n",
    "        sheet1_data = pd.DataFrame(local_var[val_str],columns=['order_id',\"order placed time\",'status','items ordered','name','email','phone number','total'])\n",
    "        sheet2_data = sheet1_data[sheet1_data['status'] == 'served']\n",
    "        sheet3_data = sheet1_data[sheet1_data['status'] == 'refunded']\n",
    "        sheet4_data = sheet1_data[sheet1_data['status'] == 'cancelled']\n",
    "        sheet5_data = sheet1_data[sheet1_data['status'] == 'inprogress']\n",
    "        sheet6_data = pd.DataFrame({\"status\":sheet1_data['status'],\"total\":sheet1_data[\"total\"]}).groupby([\"status\"]).sum()\n",
    "        \n",
    "        with pd.ExcelWriter(export_file) as writer:\n",
    "            \n",
    "            sheet1_data.to_excel(writer,sheet_name=\"All Orders\",index=False)\n",
    "            sheet2_data.to_excel(writer,sheet_name=\"Served Orders\",index=False)\n",
    "            sheet3_data.to_excel(writer,sheet_name=\"Refunded Orders\",index=False)\n",
    "            sheet4_data.to_excel(writer,sheet_name=\"Cancelled Orders\",index=False)\n",
    "            sheet5_data.to_excel(writer,sheet_name=\"Inprogress Orders\",index=False)\n",
    "            sheet6_data.to_excel(writer,sheet_name=\"Total Amount\")\n"
   ]
  },
  {
   "cell_type": "code",
   "execution_count": 11,
   "metadata": {},
   "outputs": [],
   "source": [
    "val = 3"
   ]
  },
  {
   "cell_type": "code",
   "execution_count": 12,
   "metadata": {},
   "outputs": [
    {
     "data": {
      "text/plain": [
       "False"
      ]
     },
     "execution_count": 12,
     "metadata": {},
     "output_type": "execute_result"
    }
   ],
   "source": [
    "val > 5"
   ]
  },
  {
   "cell_type": "code",
   "execution_count": null,
   "metadata": {},
   "outputs": [],
   "source": []
  }
 ],
 "metadata": {
  "kernelspec": {
   "display_name": "Python 3",
   "language": "python",
   "name": "python3"
  },
  "language_info": {
   "codemirror_mode": {
    "name": "ipython",
    "version": 3
   },
   "file_extension": ".py",
   "mimetype": "text/x-python",
   "name": "python",
   "nbconvert_exporter": "python",
   "pygments_lexer": "ipython3",
   "version": "3.9.13"
  },
  "orig_nbformat": 4,
  "vscode": {
   "interpreter": {
    "hash": "f2ca5f4a0c7053a6daf642dfd45d4c0e4bbaf9501f75f5db57f151db0457d98a"
   }
  }
 },
 "nbformat": 4,
 "nbformat_minor": 2
}
